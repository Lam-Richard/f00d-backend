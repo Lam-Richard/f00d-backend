{
 "cells": [
  {
   "cell_type": "code",
   "execution_count": 27,
   "id": "f379a275",
   "metadata": {},
   "outputs": [
    {
     "name": "stdout",
     "output_type": "stream",
     "text": [
      "Done\n"
     ]
    }
   ],
   "source": [
    "from selenium import webdriver\n",
    "from selenium.webdriver.common.desired_capabilities import DesiredCapabilities\n",
    "import time\n",
    "import json\n",
    "print(\"Done\")"
   ]
  },
  {
   "cell_type": "code",
   "execution_count": null,
   "id": "4107840b",
   "metadata": {},
   "outputs": [],
   "source": []
  },
  {
   "cell_type": "code",
   "execution_count": 23,
   "id": "faa5e4b8",
   "metadata": {
    "scrolled": false
   },
   "outputs": [
    {
     "name": "stderr",
     "output_type": "stream",
     "text": [
      "<ipython-input-23-e5f33e02760b>:20: DeprecationWarning: executable_path has been deprecated, please pass in a Service object\n",
      "  driver = webdriver.Chrome(executable_path=\"/usr/local/bin/chromedriver\",\n",
      "<ipython-input-23-e5f33e02760b>:20: DeprecationWarning: use options instead of chrome_options\n",
      "  driver = webdriver.Chrome(executable_path=\"/usr/local/bin/chromedriver\",\n"
     ]
    },
    {
     "name": "stdout",
     "output_type": "stream",
     "text": [
      "Quitting Selenium WebDriver\n"
     ]
    },
    {
     "data": {
      "text/plain": [
       "'https://api.dineoncampus.com/v1/location/5b33ae291178e909d807593d/periods?platform=0&date=2022-5-28'"
      ]
     },
     "execution_count": 23,
     "metadata": {},
     "output_type": "execute_result"
    }
   ],
   "source": [
    "# SCRIPT FOR GETTING BREAKFAST \n",
    "\n",
    "def getBreakfast():\n",
    "    # Enable Performance Logging of Chrome.\n",
    "    desired_capabilities = DesiredCapabilities.CHROME\n",
    "    desired_capabilities[\"goog:loggingPrefs\"] = {\"performance\": \"ALL\"}\n",
    "\n",
    "    # Create the webdriver object and pass the arguments\n",
    "    options = webdriver.ChromeOptions()\n",
    "\n",
    "    # Chrome will start in Headless mode\n",
    "    options.add_argument('headless')\n",
    "\n",
    "    # Ignores any certificate errors if there is any\n",
    "    options.add_argument(\"--ignore-certificate-errors\")\n",
    "\n",
    "    # Startup the chrome webdriver with executable path and\n",
    "    # pass the chrome options and desired capabilities as\n",
    "    # parameters.\n",
    "    driver = webdriver.Chrome(executable_path=\"/usr/local/bin/chromedriver\",\n",
    "                              chrome_options=options,\n",
    "                              desired_capabilities=desired_capabilities)\n",
    "\n",
    "    driver.get(\"https://dineoncampus.com/northwestern/whats-on-the-menu\")\n",
    "\n",
    "    # Sleeps for 10 seconds\n",
    "    time.sleep(10)\n",
    "\n",
    "    # Gets all the logs from performance in Chrome\n",
    "    logs = driver.get_log(\"performance\")\n",
    "\n",
    "\n",
    "    # Opens a writable JSON file and writes the logs in it\n",
    "    with open(\"network_log.json\", \"w\", encoding=\"utf-8\") as f:\n",
    "        f.write(\"[\")\n",
    "\n",
    "\n",
    "        # Iterates every logs and parses it using JSON\n",
    "        for log in logs:\n",
    "            network_log = json.loads(log[\"message\"])[\"message\"]\n",
    "\n",
    "            # Checks if the current 'method' key has any\n",
    "            # Network related value.\n",
    "            if(\"Network.response\" in network_log[\"method\"]\n",
    "                    or \"Network.request\" in network_log[\"method\"]\n",
    "                    or \"Network.webSocket\" in network_log[\"method\"]):\n",
    "\n",
    "                # Writes the network log to a JSON file by\n",
    "                # converting the dictionary to a JSON string\n",
    "                # using json.dumps().\n",
    "\n",
    "                f.write(json.dumps(network_log)+\",\")\n",
    "        f.write(\"{}]\")\n",
    "\n",
    "    print(\"Quitting Selenium WebDriver\")\n",
    "    driver.quit()\n",
    "\n",
    "    # Read the JSON File and parse it using\n",
    "    # json.loads() to find the urls containing images.\n",
    "    json_file_path = \"network_log.json\"\n",
    "    with open(json_file_path, \"r\", encoding=\"utf-8\") as f:\n",
    "        logs = json.loads(f.read())\n",
    "\n",
    "    # Iterate the logs\n",
    "    for log in logs:\n",
    "\n",
    "        # Except block will be accessed if any of the\n",
    "        # following keys are missing.\n",
    "        try:\n",
    "            # URL is present inside the following keys\n",
    "            url = log[\"params\"][\"request\"][\"url\"]\n",
    "\n",
    "            # Checks if the extension is .png or .jpg\n",
    "            if \"date=\" in url:\n",
    "                return url\n",
    "    #             print(url, end='\\n\\n')\n",
    "        except Exception as e:\n",
    "            pass\n",
    "getBreakfast()"
   ]
  },
  {
   "cell_type": "code",
   "execution_count": 41,
   "id": "9f929365",
   "metadata": {},
   "outputs": [
    {
     "name": "stderr",
     "output_type": "stream",
     "text": [
      "<ipython-input-41-3c5101e71b16>:22: DeprecationWarning: executable_path has been deprecated, please pass in a Service object\n",
      "  driver = webdriver.Chrome(executable_path=\"/usr/local/bin/chromedriver\",\n",
      "<ipython-input-41-3c5101e71b16>:22: DeprecationWarning: use options instead of chrome_options\n",
      "  driver = webdriver.Chrome(executable_path=\"/usr/local/bin/chromedriver\",\n",
      "<ipython-input-41-3c5101e71b16>:31: DeprecationWarning: find_element_by_xpath is deprecated. Please use find_element(by=By.XPATH, value=xpath) instead\n",
      "  driver.find_element_by_xpath(f\"//*[@role='presentation' and @class='nav-item']//a[@aria-posinset='{mealId[meal]}']\").click()\n"
     ]
    },
    {
     "name": "stdout",
     "output_type": "stream",
     "text": [
      "Quitting Selenium WebDriver\n"
     ]
    },
    {
     "data": {
      "text/plain": [
       "'https://api.dineoncampus.com/v1/location/5b33ae291178e909d807593d/periods/629264f8b63f1e1bff0fecb9?platform=0&date=2022-5-28'"
      ]
     },
     "execution_count": 41,
     "metadata": {},
     "output_type": "execute_result"
    }
   ],
   "source": [
    "# SCRIPT FOR GETTING BREAKFAST \n",
    "\n",
    "mealId = {\"Breakfast\": 1, \"Lunch\": 2, \"Dinner\": 3}\n",
    "\n",
    "def getMeal(meal):\n",
    "    # Enable Performance Logging of Chrome.\n",
    "    desired_capabilities = DesiredCapabilities.CHROME\n",
    "    desired_capabilities[\"goog:loggingPrefs\"] = {\"performance\": \"ALL\"}\n",
    "\n",
    "    # Create the webdriver object and pass the arguments\n",
    "    options = webdriver.ChromeOptions()\n",
    "\n",
    "    # Chrome will start in Headless mode\n",
    "    options.add_argument('headless')\n",
    "\n",
    "    # Ignores any certificate errors if there is any\n",
    "    options.add_argument(\"--ignore-certificate-errors\")\n",
    "\n",
    "    # Startup the chrome webdriver with executable path and\n",
    "    # pass the chrome options and desired capabilities as\n",
    "    # parameters.\n",
    "    driver = webdriver.Chrome(executable_path=\"/usr/local/bin/chromedriver\",\n",
    "                              chrome_options=options,\n",
    "                              desired_capabilities=desired_capabilities)\n",
    "\n",
    "    driver.get(\"https://dineoncampus.com/northwestern/whats-on-the-menu\")\n",
    "    \n",
    "    # Sleeps for 10 seconds\n",
    "    time.sleep(10)\n",
    "    \n",
    "    driver.find_element_by_xpath(f\"//*[@role='presentation' and @class='nav-item']//a[@aria-posinset='{mealId[meal]}']\").click()\n",
    "    \n",
    "    # Sleeps for 10 seconds\n",
    "    time.sleep(10)\n",
    "\n",
    "    # Gets all the logs from performance in Chrome\n",
    "    logs = driver.get_log(\"performance\")\n",
    "\n",
    "\n",
    "    # Opens a writable JSON file and writes the logs in it\n",
    "    with open(\"network_log.json\", \"w\", encoding=\"utf-8\") as f:\n",
    "        f.write(\"[\")\n",
    "\n",
    "\n",
    "        # Iterates every logs and parses it using JSON\n",
    "        for log in logs:\n",
    "            network_log = json.loads(log[\"message\"])[\"message\"]\n",
    "\n",
    "            # Checks if the current 'method' key has any\n",
    "            # Network related value.\n",
    "            if(\"Network.response\" in network_log[\"method\"]\n",
    "                    or \"Network.request\" in network_log[\"method\"]\n",
    "                    or \"Network.webSocket\" in network_log[\"method\"]):\n",
    "\n",
    "                # Writes the network log to a JSON file by\n",
    "                # converting the dictionary to a JSON string\n",
    "                # using json.dumps().\n",
    "\n",
    "                f.write(json.dumps(network_log)+\",\")\n",
    "        f.write(\"{}]\")\n",
    "\n",
    "    print(\"Quitting Selenium WebDriver\")\n",
    "    driver.quit()\n",
    "\n",
    "    # Read the JSON File and parse it using\n",
    "    # json.loads() to find the urls containing images.\n",
    "    json_file_path = \"network_log.json\"\n",
    "    with open(json_file_path, \"r\", encoding=\"utf-8\") as f:\n",
    "        logs = json.loads(f.read())\n",
    "\n",
    "    # Iterate the logs\n",
    "    answer = []\n",
    "    for log in logs:\n",
    "\n",
    "        # Except block will be accessed if any of the\n",
    "        # following keys are missing.\n",
    "        try:\n",
    "            # URL is present inside the following keys\n",
    "            url = log[\"params\"][\"request\"][\"url\"]\n",
    "\n",
    "            # Checks if the extension is .png or .jpg\n",
    "#             if \"date=\" in url:\n",
    "#                 return url\n",
    "            if meal == \"Breakfast\" and \"date=\" in url:\n",
    "                return url\n",
    "            answer.append(url)\n",
    "        except Exception as e:\n",
    "            pass\n",
    "    \n",
    "    return answer[-1]\n",
    "getMeal(\"Lunch\")"
   ]
  },
  {
   "cell_type": "code",
   "execution_count": null,
   "id": "21eb7a34",
   "metadata": {},
   "outputs": [],
   "source": []
  }
 ],
 "metadata": {
  "kernelspec": {
   "display_name": "Python 3",
   "language": "python",
   "name": "python3"
  },
  "language_info": {
   "codemirror_mode": {
    "name": "ipython",
    "version": 3
   },
   "file_extension": ".py",
   "mimetype": "text/x-python",
   "name": "python",
   "nbconvert_exporter": "python",
   "pygments_lexer": "ipython3",
   "version": "3.8.8"
  }
 },
 "nbformat": 4,
 "nbformat_minor": 5
}
